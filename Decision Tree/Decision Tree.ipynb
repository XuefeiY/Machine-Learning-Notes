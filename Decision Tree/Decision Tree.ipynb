{
 "cells": [
  {
   "cell_type": "markdown",
   "metadata": {},
   "source": [
    "* decision tree\n",
    "* random forest\n",
    "* gradient boosting"
   ]
  },
  {
   "cell_type": "markdown",
   "metadata": {},
   "source": [
    "## Pros and Cons\n",
    "### Advantages\n",
    "1. Easy to Understand\n",
    "2. Useful in Data exploration: identify most significant variables and relation between two or more variables\n",
    "3. Less data cleaning required: it is not influenced by outliers and missing values to a fair degree\n",
    "4. Data type is not a constraint: both numerical and categorical vars\n",
    "5. Non Parametric Method: no assumption about the space distribution and the classifier structure\n",
    "\n",
    "### Disadvantages\n",
    "1. Over fitting: solved by pruning\n",
    "2. No fit for continuous variables: loose information when it categorizes variables in different categories"
   ]
  },
  {
   "cell_type": "markdown",
   "metadata": {},
   "source": [
    "## Different Metrics for measuring best split\n",
    "\n",
    "### Gini Index\n",
    "\n",
    "### Chi Square\n",
    "\n",
    "### Information Gain\n",
    "\n",
    "### Reduction in Variance\n"
   ]
  },
  {
   "cell_type": "markdown",
   "metadata": {
    "collapsed": true
   },
   "source": [
    "https://www.analyticsvidhya.com/blog/2016/04/complete-tutorial-tree-based-modeling-scratch-in-python/"
   ]
  },
  {
   "cell_type": "code",
   "execution_count": null,
   "metadata": {
    "collapsed": true
   },
   "outputs": [],
   "source": []
  }
 ],
 "metadata": {
  "kernelspec": {
   "display_name": "Python 3",
   "language": "python",
   "name": "python3"
  },
  "language_info": {
   "codemirror_mode": {
    "name": "ipython",
    "version": 3
   },
   "file_extension": ".py",
   "mimetype": "text/x-python",
   "name": "python",
   "nbconvert_exporter": "python",
   "pygments_lexer": "ipython3",
   "version": "3.6.1"
  }
 },
 "nbformat": 4,
 "nbformat_minor": 2
}
