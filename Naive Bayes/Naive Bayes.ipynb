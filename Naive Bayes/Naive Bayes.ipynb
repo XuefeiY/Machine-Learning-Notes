{
 "cells": [
  {
   "cell_type": "markdown",
   "metadata": {},
   "source": [
    "# Naive Bayes Classifier"
   ]
  },
  {
   "cell_type": "markdown",
   "metadata": {},
   "source": [
    "## 1.  Algorithm\n",
    "Naive Bayes is a kind of classifier which uses the Bayes Theorem. It predicts membership probabilities for each class such as the probability that given record or data point belongs to a particular class.  The class with the highest probability is considered as the most likely class. \n",
    "\n",
    "__Bayes Theorem__\n",
    "\n",
    "Bayes theorem named after Rev. Thomas Bayes. It works on conditional probability. Conditional probability is the probability that something will happen, given that something else has already occurred. Using the conditional probability, we can calculate the probability of an event using its prior knowledge.\n",
    "\n",
    "Below is the formula for calculating the conditional probability.\n",
    "\n",
    "$P(H|E)=\\frac{P(E|H) * P(H)}{P(E)}$\n",
    "\n",
    "where\n",
    "* P(H) is the probability of hypothesis H being true. This is known as the prior probability.\n",
    "* P(E) is the probability of the evidence(regardless of the hypothesis).\n",
    "* P(E|H) is the probability of the evidence given that hypothesis is true.\n",
    "* P(H|E) is the probability of the hypothesis given that the evidence is there.\n",
    "\n",
    "__Maximum A Posteriori (MAP)__\n",
    "\n",
    "The MAP for a hypothesis is:\n",
    "\n",
    "$ MAP(H)\n",
    "= max(P(H|E))\n",
    "= max(\\frac{(P(E|H)*P(H))}{P(E)})\n",
    "= max(P(E|H)*P(H))$\n",
    "\n",
    "P(E) is evidence probability, and it is used to normalize the result. It remains same so, removing it won’t affect."
   ]
  },
  {
   "cell_type": "markdown",
   "metadata": {},
   "source": [
    "## 2. Asumption\n",
    "Naive Bayes classifier assumes that all the features are unrelated to each other. Presence or absence of a feature does not influence the presence or absence of any other feature. This assumption is called class conditional independence."
   ]
  },
  {
   "cell_type": "markdown",
   "metadata": {},
   "source": [
    "## 3. Pros and Cons \n",
    "__Pros:__\n",
    "\n",
    "* It is easy and fast to predict class of test data set. It also perform well in multi class prediction\n",
    "* When assumption of independence holds, a Naive Bayes classifier performs better compare to other models like logistic regression and you need less training data.\n",
    "* It perform well in case of categorical input variables compared to numerical variable(s). For numerical variable, normal distribution is assumed (bell curve, which is a strong assumption).\n",
    "\n",
    "__Cons:__\n",
    "\n",
    "* If categorical variable has a category (in test data set), which was not observed in training data set, then model will assign a 0 (zero) probability and will be unable to make a prediction. This is often known as “Zero Frequency”. To solve this, we can use the smoothing technique. One of the simplest smoothing techniques is called Laplace estimation.\n",
    "* On the other side Naive Bayes is also known as a bad estimator, so the probability outputs from predict_proba are not to be taken too seriously.\n",
    "* Another limitation of Naive Bayes is the assumption of independent predictors. In real life, it is almost impossible that we get a set of predictors which are completely independent.\n",
    "\n"
   ]
  },
  {
   "cell_type": "markdown",
   "metadata": {},
   "source": [
    "## 4. Applications\n",
    "* __Real time Prediction__: Naive Bayes is an eager learning classifier and it is sure fast. Thus, it could be used for making predictions in real time.\n",
    "* __Multi class Prediction__: This algorithm is also well known for multi class prediction feature. Here we can predict the probability of multiple classes of target variable.\n",
    "* __Text classification/ Spam Filtering/ Sentiment Analysis__: Naive Bayes classifiers mostly used in text classification (due to better result in multi class problems and independence rule) have higher success rate as compared to other algorithms. As a result, it is widely used in Spam filtering (identify spam e-mail) and Sentiment Analysis (in social media analysis, to identify positive and negative customer sentiments)\n",
    "* __Recommendation System__: Naive Bayes Classifier and Collaborative Filtering together builds a Recommendation System that uses machine learning and data mining techniques to filter unseen information and predict whether a user would like a given resource or not"
   ]
  },
  {
   "cell_type": "markdown",
   "metadata": {},
   "source": [
    "## 5. Improvement\n",
    "* __Transformation__: If continuous features do not have normal distribution, we should use transformation or different methods to convert it in normal distribution.\n",
    "* __Smoothing__: If test data set has zero frequency issue, apply smoothing techniques “Laplace Correction” to predict the class of test data set.\n",
    "* __Correlation__: Remove correlated features, as the highly correlated features are voted twice in the model and it can lead to over inflating importance.\n",
    "* __Pre-Processing__: Naive Bayes classifiers has limited options for parameter tuning like alpha=1 for smoothing, fit_prior=[True|False] to learn class prior probabilities or not and some other options (look at detail here). I would recommend to focus on your  pre-processing of data and the feature selection.\n",
    "* __Ensemble__: You might think to apply some classifier combination technique like ensembling, bagging and boosting but these methods would not help. Actually, “ensembling, boosting, bagging” won’t help since their purpose is to reduce variance. Naive Bayes has no variance to minimize. NB ignores correlation among the features, which induces bias and hence reduces variance."
   ]
  },
  {
   "cell_type": "markdown",
   "metadata": {},
   "source": [
    "## 6. Naive Bayes Model under Scikit Learn Library\n",
    "* __Gaussian:__ A Gaussian Naive Bayes algorithm is a special type of NB algorithm. It’s specifically used when the features have continuous values. It’s also assumed that all the features are following a gaussian distribution i.e, normal distribution.\n",
    "\n",
    "* __Multinomial:__ It is used for discrete counts. For example, let’s say,  we have a text classification problem. Here we can consider bernoulli trials which is one step further and instead of “word occurring in the document”, we have “count how often word occurs in the document”, you can think of it as “number of times outcome number $x_i$ is observed over the n trials”.\n",
    "\n",
    "* __Bernoulli:__ The binomial model is useful if your feature vectors are binary (i.e. zeros and ones). One application would be text classification with ‘bag of words’ model where the 1s & 0s are “word occurs in the document” and “word does not occur in the document” respectively."
   ]
  },
  {
   "cell_type": "code",
   "execution_count": 2,
   "metadata": {},
   "outputs": [
    {
     "name": "stdout",
     "output_type": "stream",
     "text": [
      "workclass : 1836\n",
      "education : 0\n",
      "marital_status : 0\n",
      "occupation : 1843\n",
      "relationship : 0\n",
      "race : 0\n",
      "sex : 0\n",
      "native_country : 583\n",
      "income : 0\n"
     ]
    },
    {
     "data": {
      "text/plain": [
       "0.80141447980643965"
      ]
     },
     "execution_count": 2,
     "metadata": {},
     "output_type": "execute_result"
    }
   ],
   "source": [
    "# Sample Code\n",
    "\n",
    "# =============================================================================\n",
    "# # Set Path\n",
    "# =============================================================================\n",
    "import os\n",
    "path = \"/Users/xuefei.yang/Documents/GitHub/Machine-Learning-Notes/Naive Bayes\"\n",
    "os.chdir(path)\n",
    "\n",
    "# =============================================================================\n",
    "# # Import Packages\n",
    "# =============================================================================\n",
    "import pandas as pd\n",
    "from sklearn import preprocessing\n",
    "from sklearn.cross_validation import train_test_split\n",
    "from sklearn.naive_bayes import GaussianNB\n",
    "from sklearn.metrics import accuracy_score\n",
    "\n",
    "# =============================================================================\n",
    "# # Load Data\n",
    "# =============================================================================\n",
    "adult_df = pd.read_csv('adult.data.csv',header = None, delimiter=' *, *', engine='python')\n",
    "\n",
    "adult_df.columns = ['age', 'workclass', 'fnlwgt', 'education', 'education_num',\n",
    "                    'marital_status', 'occupation', 'relationship',\n",
    "                    'race', 'sex', 'capital_gain', 'capital_loss',\n",
    "                    'hours_per_week', 'native_country', 'income']\n",
    "\n",
    "# =============================================================================\n",
    "# # Handling Missing Data\n",
    "# =============================================================================\n",
    "adult_df.isnull().sum()\n",
    "\n",
    "## For string columns\n",
    "for value in ['workclass', 'education',\n",
    "          'marital_status', 'occupation',\n",
    "          'relationship','race', 'sex',\n",
    "          'native_country', 'income']:\n",
    "    print (value,\":\", sum(adult_df[value] == '?'))\n",
    "    \n",
    "\n",
    "# =============================================================================\n",
    "# # Data Preprocessing\n",
    "# =============================================================================\n",
    "adult_df_rev = adult_df\n",
    "adult_df_rev.describe(include= 'all')\n",
    "\n",
    "## Data Imputation Step\n",
    "## We are going to replace the “?” with the above describe methods top row’s value. \n",
    "for value in ['workclass', 'education',\n",
    "          'marital_status', 'occupation',\n",
    "          'relationship','race', 'sex',\n",
    "          'native_country', 'income']:\n",
    "    adult_df_rev[value].replace(['?'], [adult_df_rev.describe(include='all')[value][2]],\n",
    "                                inplace=True)\n",
    "   \n",
    "## Label Encoder\n",
    "le = preprocessing.LabelEncoder()\n",
    "workclass_cat = le.fit_transform(adult_df.workclass)\n",
    "education_cat = le.fit_transform(adult_df.education)\n",
    "marital_cat   = le.fit_transform(adult_df.marital_status)\n",
    "occupation_cat = le.fit_transform(adult_df.occupation)\n",
    "relationship_cat = le.fit_transform(adult_df.relationship)\n",
    "race_cat = le.fit_transform(adult_df.race)\n",
    "sex_cat = le.fit_transform(adult_df.sex)\n",
    "native_country_cat = le.fit_transform(adult_df.native_country)\n",
    "\n",
    "\n",
    "## Initialize the encoded categorical columns\n",
    "adult_df_rev['workclass_cat'] = workclass_cat\n",
    "adult_df_rev['education_cat'] = education_cat\n",
    "adult_df_rev['marital_cat'] = marital_cat\n",
    "adult_df_rev['occupation_cat'] = occupation_cat\n",
    "adult_df_rev['relationship_cat'] = relationship_cat\n",
    "adult_df_rev['race_cat'] = race_cat\n",
    "adult_df_rev['sex_cat'] = sex_cat\n",
    "adult_df_rev['native_country_cat'] = native_country_cat\n",
    "\n",
    "\n",
    "## Drop the old categorical columns from dataframe\n",
    "dummy_fields = ['workclass', 'education', 'marital_status', \n",
    "                  'occupation', 'relationship', 'race',\n",
    "                  'sex', 'native_country']\n",
    "adult_df_rev = adult_df_rev.drop(dummy_fields, axis = 1)\n",
    "\n",
    "\n",
    "## Change the order of columns\n",
    "adult_df_rev = adult_df_rev.reindex_axis(['age', 'workclass_cat', 'fnlwgt', 'education_cat',\n",
    "                                    'education_num', 'marital_cat', 'occupation_cat',\n",
    "                                    'relationship_cat', 'race_cat', 'sex_cat', 'capital_gain',\n",
    "                                    'capital_loss', 'hours_per_week', 'native_country_cat', \n",
    "                                    'income'], axis= 1)\n",
    " \n",
    "adult_df_rev.head(1)\n",
    "\n",
    "\n",
    "## Standardization of Data\n",
    "## Standardization will make different features have the same scale. Then different features will have \n",
    "## same degree of influence on parameters when using gradient descent.\n",
    "num_features = ['age', 'workclass_cat', 'fnlwgt', 'education_cat', 'education_num',\n",
    "                'marital_cat', 'occupation_cat', 'relationship_cat', 'race_cat',\n",
    "                'sex_cat', 'capital_gain', 'capital_loss', 'hours_per_week',\n",
    "                'native_country_cat']\n",
    " \n",
    "scaled_features = {}\n",
    "for each in num_features:\n",
    "    mean, std = adult_df_rev[each].mean(), adult_df_rev[each].std()\n",
    "    scaled_features[each] = [mean, std]\n",
    "    adult_df_rev.loc[:, each] = (adult_df_rev[each] - mean)/std\n",
    "\n",
    "\n",
    "# =============================================================================\n",
    "# # Data Split\n",
    "# =============================================================================\n",
    "features = adult_df_rev.values[:,:14]\n",
    "target = adult_df_rev.values[:,14]\n",
    "features_train, features_test, target_train, target_test = train_test_split(features,\n",
    "                                                                            target, test_size = 0.33, random_state = 10)\n",
    "\n",
    "# =============================================================================\n",
    "# # Gaussian Naive Bayes Implementation\n",
    "# =============================================================================\n",
    "clf = GaussianNB()\n",
    "clf.fit(features_train, target_train)\n",
    "target_pred = clf.predict(features_test)\n",
    "\n",
    "## Accuracy\n",
    "accuracy_score(target_test, target_pred, normalize = True)\n",
    "# (target_test == target_pred).sum()/target_test.shape[0]"
   ]
  },
  {
   "cell_type": "markdown",
   "metadata": {},
   "source": [
    "## Reference\n",
    "Code Source: http://dataaspirant.com/2017/02/20/gaussian-naive-bayes-classifier-implementation-python/\n",
    "\n",
    "Data Source: https://archive.ics.uci.edu/ml/datasets/Adult\n",
    "\n",
    "Naive Bayes Documentation: http://scikit-learn.org/stable/modules/naive_bayes.html\n",
    "\n",
    "MultinomialNB Documentation: http://scikit-learn.org/stable/modules/generated/sklearn.naive_bayes.MultinomialNB.html\n",
    "\n",
    "Tutorial: https://www.analyticsvidhya.com/blog/2017/09/naive-bayes-explained/"
   ]
  }
 ],
 "metadata": {
  "kernelspec": {
   "display_name": "Python 3",
   "language": "python",
   "name": "python3"
  },
  "language_info": {
   "codemirror_mode": {
    "name": "ipython",
    "version": 3
   },
   "file_extension": ".py",
   "mimetype": "text/x-python",
   "name": "python",
   "nbconvert_exporter": "python",
   "pygments_lexer": "ipython3",
   "version": "3.6.1"
  }
 },
 "nbformat": 4,
 "nbformat_minor": 2
}
