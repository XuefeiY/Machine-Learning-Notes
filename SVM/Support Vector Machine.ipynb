{
 "cells": [
  {
   "cell_type": "markdown",
   "metadata": {},
   "source": [
    "# Support Vector Machine"
   ]
  },
  {
   "cell_type": "markdown",
   "metadata": {
    "collapsed": true
   },
   "source": [
    "## 1. What is Support Vector Machine?\n",
    "“Support Vector Machine” (SVM) is a supervised machine learning algorithm which can be used for both classification or regression challenges. However,  it is mostly used in classification problems. In this algorithm, we plot each data item as a point in n-dimensional space (where n is number of features you have) with the value of each feature being the value of a particular coordinate. Then, we perform classification by finding the hyper-plane that differentiate the two classes very well (look at the below snapshot)."
   ]
  },
  {
   "cell_type": "code",
   "execution_count": 1,
   "metadata": {},
   "outputs": [
    {
     "data": {
      "image/png": "[encoded data removed]",
      "text/plain": [
       "<IPython.core.display.Image object>"
      ]
     },
     "execution_count": 1,
     "metadata": {},
     "output_type": "execute_result"
    }
   ],
   "source": [
    "from IPython.display import Image\n",
    "Image(filename='SVM_1.png')"
   ]
  },
  {
   "cell_type": "markdown",
   "metadata": {},
   "source": [
    "__Support Vectors__ are simply the co-ordinates of individual observation. \n",
    "\n",
    "__Support Vector Machine__ is a frontier which best segregates the two classes (hyper-plane/ line)."
   ]
  },
  {
   "cell_type": "markdown",
   "metadata": {},
   "source": [
    "## 2. Kernel Trick\n",
    "\n",
    "SVMs are powerful in the sense that they can generate non-linear decision boundaries. Kernels help in __projecting data to a higher dimensional space__ where the points can be linearly seperated. Kernel methods implicits feature space without ever computing the coordinates of the data in that space, but rather by simply computing the inner products between the images of all pairs of data in the feature space. This operation is often computationally cheaper than the explicit computation of the coordinates. \n",
    "\n",
    "Kernel is a way of computing the dot product of two vectors __x__ and __y__ in some (possibly very high dimensional) feature space, which is why kernel functions are sometimes called \"generalized dot product\". Suppose we have a mapping: $\\varphi: \\mathbb{R}^n \\rightarrow \\mathbb{R}^m$ that brings our vectors in $\\mathbb{R}^n$ to some feature space $\\mathbb{R}^m$. Then the dot product of __x__ and __y__ in this space is $\\varphi(x)^T\\varphi(y)$. A kernel is a function $k$ that corresponds to this dot product, i.e. $k(x, y) = \\varphi(x)^T\\varphi(y)$.\n",
    "\n",
    "* __Polynomial Kernel__\n",
    "\n",
    "$k(x, y) = (1+x^Ty)^d$ with $x,y \\in \\mathbb{R}^d$\n",
    "\n",
    "It is popular in image processing.\n",
    "\n",
    "When $d=2$, $x=(x_1, x_2), y=(y_1, y_2)$: \n",
    "\n",
    "$$k(x, y) = (1+x^Ty)^2=(1+x_1y_1+x_2y_2)^2=1+x_1^2y_1^2+x_2^2y_2^2+2x_1y_1+2x_2y_2+2x_1x_2y_1y_2$$\n",
    "\n",
    "Note that this is nothing else but a dot product between two vectors $(1, x_1^2, x_2^2, \\sqrt{2}x_1, \\sqrt{2}x_1, \\sqrt{2}x_1x_2)$ and $(1, y_1^2, y_2^2, \\sqrt{2}y_1, \\sqrt{2}y_1, \\sqrt{2}y_1y_2)$, and $\\varphi(x)=\\varphi(x_1,x_2)=(1, x_1^2, x_2^2, \\sqrt{2}x_1, \\sqrt{2}x_1, \\sqrt{2}x_1x_2)$. So the kernel $k(x, y) = (1+x^Ty)^2=\\varphi(x)^T\\varphi(y)$ computes a dot product in 6-dimensional space without explicitly visiting this space.  \n",
    "\n",
    "* __Gaussian radial basis function (RBF)__\n",
    "\n",
    "$k(x, y) = \\exp(-\\gamma \\lVert x-y \\rVert^2) $\n",
    "\n",
    "It is general-purpose kernel, used when there is no prior knowledge about the data.\n",
    "\n",
    "Sometimes parametrized using: $\\gamma=\\frac{1}{2\\sigma^2}$  __(Gaussian Kernel)__\n",
    "\n",
    "If we Taylor-expand this function, we'll see that it corresponds to an infinite-dimensional codomain of $\\varphi$.\n",
    "\n",
    "Tt is a good idea to start with a __quadratic polynomial__ and work your way up into some of the more exotic kernel functions till we reach a desired accuracy level. "
   ]
  },
  {
   "cell_type": "markdown",
   "metadata": {},
   "source": [
    "## Pros and Cons associated with SVM\n",
    "* Pros:\n",
    "\n",
    "  * It works really well with clear margin of separation\n",
    "  \n",
    "  * It is effective in high dimensional spaces.\n",
    "  \n",
    "  * It is effective in cases where number of dimensions is greater than the number of samples.\n",
    "  \n",
    "  * It uses a subset of training points in the decision function (called support vectors), so it is also memory efficient.\n",
    "\n",
    "* Cons:\n",
    "\n",
    "  * It doesn’t perform well, when we have large data set because the required training time is higher\n",
    "  \n",
    "  * It also doesn’t perform very well, when the data set has more noise i.e. target classes are overlapping\n",
    "  \n",
    "  * SVM doesn’t directly provide probability estimates, these are calculated using an expensive five-fold cross-validation. It is related SVC method of Python scikit-learn library."
   ]
  },
  {
   "cell_type": "code",
   "execution_count": null,
   "metadata": {
    "collapsed": true
   },
   "outputs": [],
   "source": []
  }
 ],
 "metadata": {
  "kernelspec": {
   "display_name": "Python 3",
   "language": "python",
   "name": "python3"
  },
  "language_info": {
   "codemirror_mode": {
    "name": "ipython",
    "version": 3
   },
   "file_extension": ".py",
   "mimetype": "text/x-python",
   "name": "python",
   "nbconvert_exporter": "python",
   "pygments_lexer": "ipython3",
   "version": "3.6.1"
  }
 },
 "nbformat": 4,
 "nbformat_minor": 2
}
